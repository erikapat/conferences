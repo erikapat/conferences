{
 "cells": [
  {
   "cell_type": "markdown",
   "metadata": {},
   "source": [
    "All the presentations are located [here](https://sites.google.com/view/kdd-mlf-2020/schedule)."
   ]
  },
  {
   "cell_type": "markdown",
   "metadata": {},
   "source": [
    "### KDD 2020"
   ]
  },
  {
   "cell_type": "markdown",
   "metadata": {},
   "source": [
    "* Machine learning methods to detect money laundering in the Bitcoin blockchain in the presence of label scarcity, Joana Lorenz (NOVA-IMS); Maria Ines P P Silva (Feedzai)*; David Aparicio (Feedzai); Joao Ascesao (Feedzai); Pedro Bizarro (Feedzai)  [Video](https://drive.google.com/file/d/1bA5BJgWM3t84mgcwXN1fuQnRNy6p29ND/view). [Paper](https://arxiv.org/abs/2005.14635)\n",
    "\n",
    "\n",
    "Use Active Learning to create labels for money Landering patterns. The dataset used to test the quality of the metodology used consist of 46.000 labeled transactions 10% illicit (malware, terrorism, scams, etc) and 90% licit (verified wallet providers, miners nad services), with 166 features: 94 local information, 73 aggregated information. Later the % of illicit class is reduced to see the capacity of AL to improve the results. \n",
    "\n",
    "They use as baseline several supervised methods, where the random forest where the most valuable before apply active learning.\n",
    "\n",
    "![alt text](fig/baseline_active_learning.png \"Title\") \n",
    "\n",
    "The methodology used in active learning is as follows (although there are several ways to made this):\n",
    "\n",
    "![alt text](fig/active_learning_sum.png \"Title\") \n",
    "\n",
    "The query strategies used are the following:\n",
    "\n",
    "![alt text](fig/query_strategies.png \"Title\") \n",
    "\n",
    "You can find a summary of Active Learning [here] (https://github.com/erikapat/ML_ALGORITHMS_TEST/tree/master/Semi-Supervised%20Learning) (not related with the presentation)"
   ]
  },
  {
   "cell_type": "code",
   "execution_count": null,
   "metadata": {},
   "outputs": [],
   "source": []
  },
  {
   "cell_type": "markdown",
   "metadata": {},
   "source": [
    "* **On the Robustness of Deep Reinforcement Learning Based Optimal Trade Execution Systems**, Siyu Lin (University of Virginia)*; Peter Beling (University of Virginia), Paper #15 [Video](https://drive.google.com/file/d/12JYrQKJes7G7A-kAW45Jyq1KWo8Emoye/view)"
   ]
  },
  {
   "cell_type": "code",
   "execution_count": null,
   "metadata": {},
   "outputs": [],
   "source": []
  },
  {
   "cell_type": "markdown",
   "metadata": {},
   "source": [
    "* **Detection of Balance Anomalies with Quantile Regression: the Power of Non-symmetry**, David Muelas Recuenco (BBVA Data & Analytics)*; Luis Peinado (BBVA Data & Analytics); Axel Brando (BBVA Data & Analytics); Jose Rodriguez-Serrano (BBVA Analytics SL), [Video](https://drive.google.com/file/d/1qqDMjHzPMZ9m91W0nOSydCozjc_suFT8/view) [Paper]()\n",
    "\n",
    "The authors develop a 3-step time series mehtodology to detect unexpected variations in customers account balances. This is summarized in the followed image:\n",
    "\n",
    "![alt text](fig/3-step-method.png \"Title\") \n",
    "\n",
    "[Stage 1] They develop a RNN (long term prediction) that use an uncertainty method as quantile regression in the stage one as the following:\n",
    "\n",
    "![alt text](fig/RNN.png \"Title\") \n",
    "\n",
    "[Stage 2] Define thresholds to detect anomalous values in the series. Reduce the number of notifications for customers out of interests\n",
    "\n",
    "[Stage 3] Analysis of transactions related with anomalies, use embeddings to understand the distributions of the anomalies. \n",
    "\n",
    "**Results**\n",
    "\n",
    "[Stage 1]\n",
    "\n",
    "![alt text](fig/Stage_1.png \"Title\") \n",
    "\n",
    "[Stage 2]\n",
    "\n",
    "![alt text](fig/Stage_2.png \"Title\") \n",
    "\n",
    "[Stage 3]\n",
    "\n",
    "![alt text](fig/Stage_3.png \"Title\") "
   ]
  },
  {
   "cell_type": "markdown",
   "metadata": {},
   "source": [
    "* **Navigating the Dynamics of Financial Embeddings over Time**, Alan O Salimov (Capital One)*; Brian Nguyen (Capital One); Antonia Gogoglou (Capital One); C Bayan Bruss (Capital One); Jonathan Rider (Capital One).[Video](https://drive.google.com/file/d/1bt2BOHIeLLEx16Y_25QJqtYC9UEJrbe9/view).\n",
    "[Paper](https://drive.google.com/file/d/1ijOkqBQcgtndEyK8E5MkqS7GDACoLSLg/view)\n",
    "\n",
    "Dynamic embbedings using cards transactions."
   ]
  },
  {
   "cell_type": "code",
   "execution_count": null,
   "metadata": {},
   "outputs": [],
   "source": []
  },
  {
   "cell_type": "markdown",
   "metadata": {},
   "source": [
    "* Evolution of Credit Risk Using a Personalized Pagerank Algorithm for Multilayer Networks, Cristian Bravo (University of Western Ontario)*; María Óskarsdóttir (University of Reykjavík),.[Video](https://drive.google.com/file/d/15BSyGpHg32gr0BBE3QQ5rT4luEuLpyti/view). [Paper]\n",
    "\n",
    "**Keys:** Multilayer Bipartite Network + Influence score + PageRank Score"
   ]
  },
  {
   "cell_type": "code",
   "execution_count": null,
   "metadata": {},
   "outputs": [],
   "source": []
  },
  {
   "cell_type": "markdown",
   "metadata": {},
   "source": [
    "* **Mitigating Bias in Online Microfinance Platforms: A Case Study on Kiva.org**, Soumajyoti Sarkar (Arizona State University)*; Hamidreza Alvari (Arizona State University), [Video](https://drive.google.com/file/d/14_AMv7CcsPuB4w6vUl8PiJfpXDpV0G23/view)\n",
    "\n",
    "Are there hidden bias selection in the borrow system? How to reduced to improve the recomendation system?\n",
    "\n",
    "![alt text](fig/bias_recomendation.png \"Title\") \n",
    "\n",
    "![alt text](fig/causal_inference.png \"Title\") \n",
    "![alt text](fig/causal_inference2.png \"Title\") \n",
    "![alt text](fig/causal_inference3.png \"Title\") "
   ]
  },
  {
   "cell_type": "code",
   "execution_count": null,
   "metadata": {},
   "outputs": [],
   "source": []
  },
  {
   "cell_type": "markdown",
   "metadata": {},
   "source": [
    "* **Accurate and Intuitive Contextual Explanations using Linear Model Trees**, Aditya Lahiri (American Express)*; Narayanan U Edakunni (American Express AI Labs). [Video](https://drive.google.com/file/d/1bxFN7irBY66HARfaIolI1A-tH4pbxsO2/view). [Paper](https://drive.google.com/file/d/1zdcC15ZbPIWyh8LS_-oEOJB0hEHVgzEV/view)\n",
    "\n"
   ]
  },
  {
   "cell_type": "code",
   "execution_count": null,
   "metadata": {},
   "outputs": [],
   "source": []
  }
 ],
 "metadata": {
  "kernelspec": {
   "display_name": "Python 3",
   "language": "python",
   "name": "python3"
  },
  "language_info": {
   "codemirror_mode": {
    "name": "ipython",
    "version": 3
   },
   "file_extension": ".py",
   "mimetype": "text/x-python",
   "name": "python",
   "nbconvert_exporter": "python",
   "pygments_lexer": "ipython3",
   "version": "3.7.4"
  }
 },
 "nbformat": 4,
 "nbformat_minor": 4
}
