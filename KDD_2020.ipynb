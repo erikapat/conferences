{
 "cells": [
  {
   "cell_type": "markdown",
   "metadata": {},
   "source": [
    "All the presentations are located [here](https://sites.google.com/view/kdd-mlf-2020/schedule)."
   ]
  },
  {
   "cell_type": "markdown",
   "metadata": {},
   "source": [
    "### KDD 2020"
   ]
  },
  {
   "cell_type": "markdown",
   "metadata": {},
   "source": [
    "* Machine learning methods to detect money laundering in the Bitcoin blockchain in the presence of label scarcity, Joana Lorenz (NOVA-IMS); Maria Ines P P Silva (Feedzai)*; David Aparicio (Feedzai); Joao Ascesao (Feedzai); Pedro Bizarro (Feedzai)  [Video](https://drive.google.com/file/d/1bA5BJgWM3t84mgcwXN1fuQnRNy6p29ND/view). [Paper](https://arxiv.org/abs/2005.14635)\n",
    "\n",
    "\n",
    "Use Active Learning to create labels for money Landering patterns. The dataset used to test the quality of the metodology used consist of 46.000 labeled transactions 10% illicit (malware, terrorism, scams, etc) and 90% licit (verified wallet providers, miners nad services), with 166 features: 94 local information, 73 aggregated information. Later the % of illicit class is reduced to see the capacity of AL to improve the results. \n",
    "\n",
    "They use as baseline several supervised methods, where the random forest where the most valuable before apply active learning.\n",
    "\n",
    "![alt text](fig/baseline_active_learning.png \"Title\") \n",
    "\n",
    "The methodology used in active learning is as follows (although there are several ways to made this):\n",
    "\n",
    "![alt text](fig/active_learning_sum.png \"Title\") \n",
    "\n",
    "The query strategies used are the following:\n",
    "\n",
    "![alt text](fig/query_strategies.png \"Title\") \n",
    "\n",
    "You can find a summary of Active Learning [here] (https://github.com/erikapat/ML_ALGORITHMS_TEST/tree/master/Semi-Supervised%20Learning) (not related with the presentation)"
   ]
  },
  {
   "cell_type": "markdown",
   "metadata": {},
   "source": [
    "* **On the Robustness of Deep Reinforcement Learning Based Optimal Trade Execution Systems**, Siyu Lin (University of Virginia)*; Peter Beling (University of Virginia), Paper #15 [Video](https://drive.google.com/file/d/12JYrQKJes7G7A-kAW45Jyq1KWo8Emoye/view)"
   ]
  },
  {
   "cell_type": "markdown",
   "metadata": {},
   "source": [
    "* **Detection of Balance Anomalies with Quantile Regression: the Power of Non-symmetry**, David Muelas Recuenco (BBVA Data & Analytics)*; Luis Peinado (BBVA Data & Analytics); Axel Brando (BBVA Data & Analytics); Jose Rodriguez-Serrano (BBVA Analytics SL), [Video](https://drive.google.com/file/d/1qqDMjHzPMZ9m91W0nOSydCozjc_suFT8/view) [Paper]()\n",
    "\n",
    "The authors develop a 3-step time series mehtodology to detect unexpected variations in customers account balances. This is summarized in the followed image:\n",
    "\n",
    "![alt text](fig/3-step-method.png \"Title\") \n",
    "\n",
    "[Stage 1] They develop a RNN (long term prediction) that use an uncertainty method as quantile regression in the stage one as the following:\n",
    "\n",
    "![alt text](fig/RNN.png \"Title\") \n",
    "\n",
    "[Stage 2] Define thresholds to detect anomalous values in the series. Reduce the number of notifications for customers out of interests\n",
    "\n",
    "[Stage 3] Analysis of transactions related with anomalies, use embeddings to understand the distributions of the anomalies. \n",
    "\n",
    "**Results**\n",
    "\n",
    "[Stage 1]\n",
    "\n",
    "![alt text](fig/Stage_1.png \"Title\") \n",
    "\n",
    "[Stage 2]\n",
    "\n",
    "![alt text](fig/Stage_2.png \"Title\") \n",
    "\n",
    "[Stage 3]\n",
    "\n",
    "![alt text](fig/Stage_3.png \"Title\") "
   ]
  },
  {
   "cell_type": "markdown",
   "metadata": {},
   "source": [
    "* **Navigating the Dynamics of Financial Embeddings over Time**, Alan O Salimov (Capital One)*; Brian Nguyen (Capital One); Antonia Gogoglou (Capital One); C Bayan Bruss (Capital One); Jonathan Rider (Capital One).[Video](https://drive.google.com/file/d/1bt2BOHIeLLEx16Y_25QJqtYC9UEJrbe9/view).\n",
    "[Paper](https://drive.google.com/file/d/1ijOkqBQcgtndEyK8E5MkqS7GDACoLSLg/view)\n",
    "\n",
    "Dynamic embbedings using cards transactions."
   ]
  },
  {
   "cell_type": "markdown",
   "metadata": {},
   "source": [
    "* Evolution of Credit Risk Using a Personalized Pagerank Algorithm for Multilayer Networks, Cristian Bravo (University of Western Ontario)*; María Óskarsdóttir (University of Reykjavík),.[Video](https://drive.google.com/file/d/15BSyGpHg32gr0BBE3QQ5rT4luEuLpyti/view). [Paper]\n",
    "\n",
    "**Keys:** Multilayer Bipartite Network + Influence score + PageRank Score"
   ]
  },
  {
   "cell_type": "markdown",
   "metadata": {},
   "source": [
    "## **Causal Inference**"
   ]
  },
  {
   "cell_type": "markdown",
   "metadata": {},
   "source": [
    "* **[Tutorial] Causal Inference meets Machine Learning** [Info](http://kdd2020tutorial.thumedialab.com/)[Part 1](https://www.youtube.com/watch?v=g_2dMQCU0zo&feature=emb_logo), [Part 2](https://www.youtube.com/watch?v=I6yi_wd4r94&feature=emb_logo), [Part 3], [Part 4]"
   ]
  },
  {
   "cell_type": "markdown",
   "metadata": {},
   "source": [
    "* **[Paper]Mitigating Bias in Online Microfinance Platforms: A Case Study on Kiva.org**, Soumajyoti Sarkar (Arizona State University)*; Hamidreza Alvari (Arizona State University), [Video](https://drive.google.com/file/d/14_AMv7CcsPuB4w6vUl8PiJfpXDpV0G23/view), [Paper](https://arxiv.org/pdf/2006.12995.pdf)\n",
    "\n",
    "Are there hidden bias selection in the borrow system? How to reduced to improve the recomendation system?\n",
    "\n",
    "![alt text](fig/bias_recomendation.png \"Title\") \n",
    "\n",
    "![alt text](fig/causal_inference.png \"Title\") \n",
    "![alt text](fig/causal_inference2.png \"Title\") \n",
    "![alt text](fig/causal_inference3.png \"Title\") "
   ]
  },
  {
   "cell_type": "code",
   "execution_count": null,
   "metadata": {},
   "outputs": [],
   "source": []
  },
  {
   "cell_type": "markdown",
   "metadata": {},
   "source": [
    "* **Accurate and Intuitive Contextual Explanations using Linear Model Trees**, Aditya Lahiri (American Express)*; Narayanan U Edakunni (American Express AI Labs). [Video](https://drive.google.com/file/d/1bxFN7irBY66HARfaIolI1A-tH4pbxsO2/view). [Paper](https://drive.google.com/file/d/1zdcC15ZbPIWyh8LS_-oEOJB0hEHVgzEV/view)\n",
    "\n",
    "![alt text](fig/LMTE_1.png \"Title\") \n",
    "![alt text](fig/LMTE_2.png \"Title\") \n",
    "![alt text](fig/LMTE_3.png \"Title\") "
   ]
  },
  {
   "cell_type": "code",
   "execution_count": null,
   "metadata": {},
   "outputs": [],
   "source": []
  },
  {
   "cell_type": "markdown",
   "metadata": {},
   "source": [
    "* **Multi-stream RNN for Merchant Transaction Prediction**, Zhongfang Zhuang (Visa Research)*; Michael Yeh (Visa Research); Liang Wang (Visa Research); Wei Zhang (Visa Research); Junpeng Wang (Visa Research).[Slides](https://drive.google.com/file/d/11155zH2a9Jl7-kBHo4JxFzxrqKS0cteS/view). [Video](https://drive.google.com/file/d/1uRMnFGmESF_prFOyFaqnb_Gj-oqTDplt/view\n",
    "\n",
    "![alt text](fig/visa.png \"Title\") "
   ]
  },
  {
   "cell_type": "code",
   "execution_count": null,
   "metadata": {},
   "outputs": [],
   "source": []
  },
  {
   "cell_type": "markdown",
   "metadata": {},
   "source": [
    "* Financial Sentiment Analysis with Pre-trained Language Models, Dogu Araci (Prosus)*; Zulkuf Genc (Prosus), Paper # 9 [Video]\n",
    "* Adverse Media Mining for KYC and ESG Compliance, Rupinder P Khandpur (Virginia Tech); Ashit Talukder (Moody's Analytics); Rupinder Khandpur (Moodys Analytics)*, Paper #34 [Video]\n",
    "* CoronaPulse: Real-Time Sentiment Analysis and Emergent Multi-Sector Financial Risk Detection From CoVID-19 Events, Ashit Talukder (Moody's Analytics)*; Daulet Nurmanbetov (Moody's Analytics), Paper #28 [Video] [Paper]\n",
    "* A Scalable Framework for Group Fraud Detection in Transaction using Deep Graph Neural Network, Wei Min (eBay)*; Zhichao Han (eBay); Zitao Zhang (eBay); Shengqian Chen (eBay); Wenyu Dong (eBay); Yang Zhao (eBay), Paper #19 [Video] [Slides] [Paper]\n"
   ]
  },
  {
   "cell_type": "code",
   "execution_count": null,
   "metadata": {},
   "outputs": [],
   "source": []
  },
  {
   "cell_type": "markdown",
   "metadata": {},
   "source": [
    "**A Unified Machine Learning Framework for Targeting Financial Product Offerings, Shankar Sankararaman (Intuit)**; Debasish Das (Intuit); Deepesh Ramachandran Vijayalekshmi (Intuit); Babak Aghazadeh (Intuit)[Video](https://drive.google.com/file/d/1DEI3NOEfBxOn07Y7_xLLwhDYlx7Dq76g/view). [Paper](https://drive.google.com/file/d/1kiaWk6LJVYoXBXfVpA4nqSHX69OBGfdW/view)\n",
    "\n",
    "(Not clear/Superficial/Nothing new)"
   ]
  },
  {
   "cell_type": "markdown",
   "metadata": {},
   "source": [
    "**Machine Learning for Temporal Data in Finance: Challenges and Opportunities**, Jason Wittenbach (Capital One)*; C Bayan Bruss (Capital One); Brian d'Alessandro (Capital One).[Video](https://drive.google.com/file/d/1OTCbzYhoONUq5tbbdnHRh-y3qMVWewkv/view)\n",
    "\n",
    "![alt text](fig/emerging_aproaches.png \"Title\") \n",
    "\n",
    "And the end of video he says \"I hope you'll read the paper\", but it seems no available, so..."
   ]
  },
  {
   "cell_type": "markdown",
   "metadata": {},
   "source": [
    "**Predicting Account Receivables with Machine Learning**, Ana Paula Appel (IBM)*; Gabriel Malfatti (IBM Research); Renato Cunha (IBM); Bruno Lima (IBM Research); Rogerio de Paula (IBM Research, Brazil).[Video](https://drive.google.com/file/d/1wqkQW0px1_IBSkRdgYs_P9bTAb5pLKW3/view) [Paper](https://drive.google.com/file/d/1jME-WEhKzewYyXLLvcqeKP9bl6mCHSsR/view)\n",
    "\n",
    "Video not good, look the paper."
   ]
  },
  {
   "cell_type": "markdown",
   "metadata": {},
   "source": [
    "**Explainable Clustering and Application to Wealth Management Compliance**, Enguerrand Horel (Stanford University)*; Kay Giesecke (Stanford University); Victor Storchan (J.P. Morgan); Naren Chittar (J.P. Morgan)[Video](https://drive.google.com/file/d/10FYy5DjV4D_6mkq3Kkv4hP-MnbW4qyKf/view). [Paper](https://drive.google.com/file/d/1hz5SILO_8_ruezBSnI-I3D9fVJFz0zkH/view)\n",
    "\n",
    "\n",
    "![alt text](fig/cluster1.png \"Title\") \n",
    "![alt text](fig/cluster2.png \"Title\") \n",
    "![alt text](fig/cluster3.png \"Title\") "
   ]
  },
  {
   "cell_type": "markdown",
   "metadata": {},
   "source": [
    "* **FairXGBoost: Fairness-aware Classification in XGBoost**, Srinivasan Ravichandran (American Express)*; Drona Khurana (American Express); Bharath Venkatesh (American Express); Narayanan U Edakunni (American Express AI Labs). [Video](https://drive.google.com/file/d/1ZMNdFK-RTs4mq6Lr_FiaNI9f7wlQFN-j/view). [Paper](https://drive.google.com/file/d/1ATTglJ0--8T6knUOxsWwiLCooNLYuSPh/view)"
   ]
  },
  {
   "cell_type": "markdown",
   "metadata": {},
   "source": [
    "* **Hierarchical Contextual Document Embeddings for Long Financial Text Regression**, Vipula Rawte (Rensselaer Polytechnic Institute)*; Aparna Gupta (RPI); Mohammed Zaki (RPI). [Video](https://drive.google.com/file/d/1l1vRh2KwP3eWlb2p1t6HeqRPvsTaMFki/view) .[Paper](https://drive.google.com/file/d/1owajsklsVlCgnggEB9FVghPVrisK6b5R/view).\n"
   ]
  },
  {
   "cell_type": "markdown",
   "metadata": {},
   "source": [
    "* **On the Optimal Baseline Auto Insurance Premium**, Patrick Hosein (University of the West Indies).[Video](https://drive.google.com/file/d/1nRQ_oQYK8smllqbRJqvUE_aeHtJX2x_L/view). [Paper](https://drive.google.com/file/d/1C_cg_NTUJR8UG5dPqUA4LBjGMKh9fzdo/view)."
   ]
  },
  {
   "cell_type": "markdown",
   "metadata": {},
   "source": [
    "* **Personalized Welcome Messages in Conversational Chatbots via Time Aware Self-Attentive Models**. Homa Foroughi (Intuit)*; Chang Liu (Intuit); Pankaj Gupta (Intuit).[Video](https://drive.google.com/file/d/1j0aqNFXRPkzO6wOeKgJhpEFZHIo6Ux65/view). [Paper](https://drive.google.com/file/d/1-vMtvQ31mZSD-4EkiM_Wl2v9rexAF2Tm/view)."
   ]
  },
  {
   "cell_type": "markdown",
   "metadata": {},
   "source": [
    "* Data- and Model-driven Multi-Touch Attribution for Omnichannel Conversions, Yue Duan (Capital One)*; Jie Shen (Capital One), Paper #22 [Video] [Paper]"
   ]
  },
  {
   "cell_type": "markdown",
   "metadata": {},
   "source": [
    "* **Dealing with missing Industry Codes: Imputation and Representation using Sequence Classification**, Behrouz Saghafikhadem (Capital One); Jihan Wei (Capital One); Jiankun Liu (Capital One)*;Nickolas Wilson (Capital One); Ankur Mohan (Capital One). [Video](https://drive.google.com/file/d/1zSXbd0A7jTuiFkloHpcynQf50AQY54hS/view) [Paper](https://drive.google.com/file/d/1k3um1JTfysw9tGIHrS-APOOpjz2C9tNd/view)"
   ]
  },
  {
   "cell_type": "markdown",
   "metadata": {},
   "source": [
    "* **Towards Earnings Call and Stock Price Movement**, Zhiqiang Ma (S&P Global)*; Grace Bang (S&P Global); Xiaomo Liu (S&P Global); Chong Wang (S&P Global ).[Video](https://drive.google.com/file/d/1KplHoguJcSLK7nZlKg-3op_FDweWzj_F/view). [Paper](https://drive.google.com/file/d/1ctqkQtEw6KCYDkm7g0wMAlxO8Eg7FBVX/view)."
   ]
  },
  {
   "cell_type": "markdown",
   "metadata": {},
   "source": [
    "* **Evidence of Rising Market Efficiency from Intra-day Equity Price Prediction**, David Byrd (Ga Tech)*; Tucker Balch (JP Morgan).[Video](https://drive.google.com/file/d/1F7kz2x0YXg2HW8ulrVlk9EG6tgYKq3sK/view). [Paper](https://drive.google.com/file/d/1DItb5UckDj9UYjOlPVwHYQtoV61CwpGq/view).\n"
   ]
  },
  {
   "cell_type": "markdown",
   "metadata": {},
   "source": [
    "* **Alpha Discovery Neural Network, the Special Fountain of Financial Trading Signals**, Jie Fang (Tsinghua University)*; Shutao Xia (Tsinghua University); Jianwu Lin (Tsinghua Shenzhen Graduate School); Zhikang Xia (Tsinghua University); Xiang Liu (Tsinghua Shenzhen International Graduate School); Yong Jiang (Tsinghua University). [Video](https://drive.google.com/file/d/14MR3sSefreMMtbZMEMKwGvkJWFLz-Xg5/view) .[Poster](https://drive.google.com/file/d/1chqc5jl1_r6yB9dnVOFnJdbikCGf4unt/view). [Paper](https://drive.google.com/file/d/1A1gua7RkWPl7BVlCVFgfGS1VOiwBnzPb/view)."
   ]
  },
  {
   "cell_type": "code",
   "execution_count": null,
   "metadata": {},
   "outputs": [],
   "source": []
  }
 ],
 "metadata": {
  "kernelspec": {
   "display_name": "Python 3",
   "language": "python",
   "name": "python3"
  },
  "language_info": {
   "codemirror_mode": {
    "name": "ipython",
    "version": 3
   },
   "file_extension": ".py",
   "mimetype": "text/x-python",
   "name": "python",
   "nbconvert_exporter": "python",
   "pygments_lexer": "ipython3",
   "version": "3.7.4"
  }
 },
 "nbformat": 4,
 "nbformat_minor": 4
}
